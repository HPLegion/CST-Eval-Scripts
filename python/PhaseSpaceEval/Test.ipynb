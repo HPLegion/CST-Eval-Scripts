{
 "cells": [
  {
   "cell_type": "code",
   "execution_count": 2,
   "metadata": {
    "collapsed": true
   },
   "outputs": [],
   "source": [
    "import numpy as np\n",
    "import pandas as pd\n",
    "import import_particle_data as i_p_d\n",
    "from trajectory import Trajectory\n",
    "from particlemonitor import ParticleMonitor\n",
    "import os\n",
    "import altair as alt\n",
    "alt.enable_mime_rendering()\n",
    "from monitor_quantities import *"
   ]
  },
  {
   "cell_type": "code",
   "execution_count": 3,
   "metadata": {},
   "outputs": [
    {
     "name": "stdout",
     "output_type": "stream",
     "text": [
      "X:\\hapahl\\PhD\\GitHubRepos\\CST-Eval-Scripts\\python\\PhaseSpaceEval\\data3\\\n"
     ]
    }
   ],
   "source": [
    "data_path = os.path.dirname(os.getcwd()) + \"\\\\PhaseSpaceEval\\\\data3\\\\\"\n",
    "print(data_path)"
   ]
  },
  {
   "cell_type": "code",
   "execution_count": 4,
   "metadata": {
    "collapsed": true
   },
   "outputs": [],
   "source": [
    "constantsFile = data_path + \"particle_constants.txt\"\n",
    "particle_constants = i_p_d.import_particle_constants(constantsFile)"
   ]
  },
  {
   "cell_type": "code",
   "execution_count": 5,
   "metadata": {
    "collapsed": true
   },
   "outputs": [],
   "source": [
    "trajectoriesFile = data_path + \"particle_trajectories.txt\"\n",
    "particle_trajectories = i_p_d.import_particle_trajectories(trajectoriesFile)"
   ]
  },
  {
   "cell_type": "code",
   "execution_count": 6,
   "metadata": {},
   "outputs": [
    {
     "name": "stdout",
     "output_type": "stream",
     "text": [
      "{16777220: 'particle interface 1'}\n"
     ]
    }
   ],
   "source": [
    "sourceIDFile = data_path + \"source_names.txt\"\n",
    "names = i_p_d.import_source_names(sourceIDFile)\n",
    "print(names)"
   ]
  },
  {
   "cell_type": "code",
   "execution_count": 7,
   "metadata": {},
   "outputs": [
    {
     "data": {
      "text/html": [
       "<div>\n",
       "<style>\n",
       "    .dataframe thead tr:only-child th {\n",
       "        text-align: right;\n",
       "    }\n",
       "\n",
       "    .dataframe thead th {\n",
       "        text-align: left;\n",
       "    }\n",
       "\n",
       "    .dataframe tbody tr th {\n",
       "        vertical-align: top;\n",
       "    }\n",
       "</style>\n",
       "<table border=\"1\" class=\"dataframe\">\n",
       "  <thead>\n",
       "    <tr style=\"text-align: right;\">\n",
       "      <th></th>\n",
       "      <th>mass</th>\n",
       "      <th>macroCharge</th>\n",
       "      <th>sourceID</th>\n",
       "    </tr>\n",
       "    <tr>\n",
       "      <th>particleID</th>\n",
       "      <th></th>\n",
       "      <th></th>\n",
       "      <th></th>\n",
       "    </tr>\n",
       "  </thead>\n",
       "  <tbody>\n",
       "    <tr>\n",
       "      <th>0</th>\n",
       "      <td>2.007146e-26</td>\n",
       "      <td>4.882776e-13</td>\n",
       "      <td>16777220</td>\n",
       "    </tr>\n",
       "    <tr>\n",
       "      <th>1</th>\n",
       "      <td>2.007146e-26</td>\n",
       "      <td>4.882776e-13</td>\n",
       "      <td>16777220</td>\n",
       "    </tr>\n",
       "    <tr>\n",
       "      <th>2</th>\n",
       "      <td>2.007146e-26</td>\n",
       "      <td>4.882776e-13</td>\n",
       "      <td>16777220</td>\n",
       "    </tr>\n",
       "    <tr>\n",
       "      <th>3</th>\n",
       "      <td>2.007146e-26</td>\n",
       "      <td>4.882776e-13</td>\n",
       "      <td>16777220</td>\n",
       "    </tr>\n",
       "    <tr>\n",
       "      <th>4</th>\n",
       "      <td>2.007146e-26</td>\n",
       "      <td>4.882776e-13</td>\n",
       "      <td>16777220</td>\n",
       "    </tr>\n",
       "  </tbody>\n",
       "</table>\n",
       "</div>"
      ],
      "text/plain": [
       "                    mass   macroCharge  sourceID\n",
       "particleID                                      \n",
       "0           2.007146e-26  4.882776e-13  16777220\n",
       "1           2.007146e-26  4.882776e-13  16777220\n",
       "2           2.007146e-26  4.882776e-13  16777220\n",
       "3           2.007146e-26  4.882776e-13  16777220\n",
       "4           2.007146e-26  4.882776e-13  16777220"
      ]
     },
     "execution_count": 7,
     "metadata": {},
     "output_type": "execute_result"
    }
   ],
   "source": [
    "particle_constants.head()"
   ]
  },
  {
   "cell_type": "code",
   "execution_count": 8,
   "metadata": {},
   "outputs": [
    {
     "data": {
      "text/html": [
       "<div>\n",
       "<style>\n",
       "    .dataframe thead tr:only-child th {\n",
       "        text-align: right;\n",
       "    }\n",
       "\n",
       "    .dataframe thead th {\n",
       "        text-align: left;\n",
       "    }\n",
       "\n",
       "    .dataframe tbody tr th {\n",
       "        vertical-align: top;\n",
       "    }\n",
       "</style>\n",
       "<table border=\"1\" class=\"dataframe\">\n",
       "  <thead>\n",
       "    <tr style=\"text-align: right;\">\n",
       "      <th></th>\n",
       "      <th>time</th>\n",
       "      <th>x</th>\n",
       "      <th>y</th>\n",
       "      <th>z</th>\n",
       "      <th>px</th>\n",
       "      <th>py</th>\n",
       "      <th>pz</th>\n",
       "    </tr>\n",
       "  </thead>\n",
       "  <tbody>\n",
       "    <tr>\n",
       "      <th>0</th>\n",
       "      <td>-0.000488</td>\n",
       "      <td>0.000000e+00</td>\n",
       "      <td>0.000000e+00</td>\n",
       "      <td>0.000000</td>\n",
       "      <td>0.000000e+00</td>\n",
       "      <td>0.000000e+00</td>\n",
       "      <td>0.005655</td>\n",
       "    </tr>\n",
       "    <tr>\n",
       "      <th>1</th>\n",
       "      <td>0.008056</td>\n",
       "      <td>-1.209744e-12</td>\n",
       "      <td>-2.738808e-18</td>\n",
       "      <td>0.013656</td>\n",
       "      <td>-8.950678e-13</td>\n",
       "      <td>-2.024486e-18</td>\n",
       "      <td>0.005655</td>\n",
       "    </tr>\n",
       "    <tr>\n",
       "      <th>2</th>\n",
       "      <td>0.062557</td>\n",
       "      <td>-7.335628e-11</td>\n",
       "      <td>-1.629990e-16</td>\n",
       "      <td>0.106043</td>\n",
       "      <td>-7.151656e-12</td>\n",
       "      <td>-1.576261e-17</td>\n",
       "      <td>0.005655</td>\n",
       "    </tr>\n",
       "    <tr>\n",
       "      <th>3</th>\n",
       "      <td>0.400008</td>\n",
       "      <td>-3.023926e-09</td>\n",
       "      <td>-5.941202e-15</td>\n",
       "      <td>0.678077</td>\n",
       "      <td>-4.636395e-11</td>\n",
       "      <td>-8.580548e-17</td>\n",
       "      <td>0.005655</td>\n",
       "    </tr>\n",
       "    <tr>\n",
       "      <th>4</th>\n",
       "      <td>1.257675</td>\n",
       "      <td>-2.946653e-08</td>\n",
       "      <td>-3.961229e-14</td>\n",
       "      <td>2.131958</td>\n",
       "      <td>-1.499131e-10</td>\n",
       "      <td>-1.404259e-16</td>\n",
       "      <td>0.005655</td>\n",
       "    </tr>\n",
       "  </tbody>\n",
       "</table>\n",
       "</div>"
      ],
      "text/plain": [
       "       time             x             y         z            px            py  \\\n",
       "0 -0.000488  0.000000e+00  0.000000e+00  0.000000  0.000000e+00  0.000000e+00   \n",
       "1  0.008056 -1.209744e-12 -2.738808e-18  0.013656 -8.950678e-13 -2.024486e-18   \n",
       "2  0.062557 -7.335628e-11 -1.629990e-16  0.106043 -7.151656e-12 -1.576261e-17   \n",
       "3  0.400008 -3.023926e-09 -5.941202e-15  0.678077 -4.636395e-11 -8.580548e-17   \n",
       "4  1.257675 -2.946653e-08 -3.961229e-14  2.131958 -1.499131e-10 -1.404259e-16   \n",
       "\n",
       "         pz  \n",
       "0  0.005655  \n",
       "1  0.005655  \n",
       "2  0.005655  \n",
       "3  0.005655  \n",
       "4  0.005655  "
      ]
     },
     "execution_count": 8,
     "metadata": {},
     "output_type": "execute_result"
    }
   ],
   "source": [
    "particle_trajectories[0].head()"
   ]
  },
  {
   "cell_type": "code",
   "execution_count": 9,
   "metadata": {
    "collapsed": true
   },
   "outputs": [],
   "source": [
    "dtr = Trajectory(particle_trajectories[0],particle_constants.loc[[0]])\n",
    "pm = ParticleMonitor(302, trajectory=dtr)"
   ]
  },
  {
   "cell_type": "code",
   "execution_count": 10,
   "metadata": {
    "collapsed": true
   },
   "outputs": [],
   "source": [
    "trajectories = []\n",
    "for particleID in particle_trajectories.keys():\n",
    "    trajectories.append(Trajectory(particle_trajectories[particleID], particle_constants.loc[[particleID]]))"
   ]
  },
  {
   "cell_type": "code",
   "execution_count": 11,
   "metadata": {
    "collapsed": true
   },
   "outputs": [],
   "source": [
    "for traj in trajectories:\n",
    "    pm.record_intersect(traj)"
   ]
  },
  {
   "cell_type": "code",
   "execution_count": 12,
   "metadata": {},
   "outputs": [
    {
     "data": {
      "text/html": [
       "<div>\n",
       "<style>\n",
       "    .dataframe thead tr:only-child th {\n",
       "        text-align: right;\n",
       "    }\n",
       "\n",
       "    .dataframe thead th {\n",
       "        text-align: left;\n",
       "    }\n",
       "\n",
       "    .dataframe tbody tr th {\n",
       "        vertical-align: top;\n",
       "    }\n",
       "</style>\n",
       "<table border=\"1\" class=\"dataframe\">\n",
       "  <thead>\n",
       "    <tr style=\"text-align: right;\">\n",
       "      <th></th>\n",
       "      <th>particleID</th>\n",
       "      <th>sourceID</th>\n",
       "      <th>t_event</th>\n",
       "      <th>ps_u</th>\n",
       "      <th>ps_up</th>\n",
       "      <th>ps_v</th>\n",
       "      <th>ps_vp</th>\n",
       "      <th>ps_l</th>\n",
       "      <th>ps_delta</th>\n",
       "    </tr>\n",
       "  </thead>\n",
       "  <tbody>\n",
       "    <tr>\n",
       "      <th>0</th>\n",
       "      <td>0</td>\n",
       "      <td>16777220</td>\n",
       "      <td>302.000000</td>\n",
       "      <td>0.000000</td>\n",
       "      <td>-1.606766e-14</td>\n",
       "      <td>0.000000</td>\n",
       "      <td>-3.946328e-20</td>\n",
       "      <td>-0.000000</td>\n",
       "      <td>0.000000e+00</td>\n",
       "    </tr>\n",
       "    <tr>\n",
       "      <th>1</th>\n",
       "      <td>1</td>\n",
       "      <td>16777220</td>\n",
       "      <td>305.851546</td>\n",
       "      <td>5.959886</td>\n",
       "      <td>-1.459628e+01</td>\n",
       "      <td>0.000001</td>\n",
       "      <td>1.037771e-05</td>\n",
       "      <td>-6.529172</td>\n",
       "      <td>5.304683e-06</td>\n",
       "    </tr>\n",
       "    <tr>\n",
       "      <th>2</th>\n",
       "      <td>2</td>\n",
       "      <td>16777220</td>\n",
       "      <td>304.704716</td>\n",
       "      <td>4.438826</td>\n",
       "      <td>-9.510465e+00</td>\n",
       "      <td>6.955784</td>\n",
       "      <td>-9.481840e-01</td>\n",
       "      <td>-4.585057</td>\n",
       "      <td>3.175611e-06</td>\n",
       "    </tr>\n",
       "    <tr>\n",
       "      <th>3</th>\n",
       "      <td>3</td>\n",
       "      <td>16777220</td>\n",
       "      <td>302.017618</td>\n",
       "      <td>0.173667</td>\n",
       "      <td>6.008896e-01</td>\n",
       "      <td>9.539995</td>\n",
       "      <td>-2.445803e+00</td>\n",
       "      <td>-0.029867</td>\n",
       "      <td>-2.695271e-07</td>\n",
       "    </tr>\n",
       "    <tr>\n",
       "      <th>4</th>\n",
       "      <td>4</td>\n",
       "      <td>16777220</td>\n",
       "      <td>299.424153</td>\n",
       "      <td>-4.589379</td>\n",
       "      <td>9.112135e+00</td>\n",
       "      <td>6.633542</td>\n",
       "      <td>-2.070382e+00</td>\n",
       "      <td>4.366597</td>\n",
       "      <td>-1.717785e-06</td>\n",
       "    </tr>\n",
       "  </tbody>\n",
       "</table>\n",
       "</div>"
      ],
      "text/plain": [
       "   particleID  sourceID     t_event      ps_u         ps_up      ps_v  \\\n",
       "0           0  16777220  302.000000  0.000000 -1.606766e-14  0.000000   \n",
       "1           1  16777220  305.851546  5.959886 -1.459628e+01  0.000001   \n",
       "2           2  16777220  304.704716  4.438826 -9.510465e+00  6.955784   \n",
       "3           3  16777220  302.017618  0.173667  6.008896e-01  9.539995   \n",
       "4           4  16777220  299.424153 -4.589379  9.112135e+00  6.633542   \n",
       "\n",
       "          ps_vp      ps_l      ps_delta  \n",
       "0 -3.946328e-20 -0.000000  0.000000e+00  \n",
       "1  1.037771e-05 -6.529172  5.304683e-06  \n",
       "2 -9.481840e-01 -4.585057  3.175611e-06  \n",
       "3 -2.445803e+00 -0.029867 -2.695271e-07  \n",
       "4 -2.070382e+00  4.366597 -1.717785e-06  "
      ]
     },
     "execution_count": 12,
     "metadata": {},
     "output_type": "execute_result"
    }
   ],
   "source": [
    "data = pm.get_events()\n",
    "data.head()"
   ]
  },
  {
   "cell_type": "code",
   "execution_count": 13,
   "metadata": {},
   "outputs": [
    {
     "data": {
      "application/vnd.vegalite.v1+json": {
       "$schema": "https://vega.github.io/schema/vega-lite/v1.2.1.json",
       "data": {
        "values": [
         {
          "particleID": 0,
          "ps_delta": 0,
          "ps_l": 0,
          "ps_u": 0,
          "ps_up": -1.606765911485471e-14,
          "ps_v": 0,
          "ps_vp": -3.946328189841796e-20,
          "sourceID": 16777220,
          "t_event": 302
         },
         {
          "particleID": 1,
          "ps_delta": 5.304683007669138e-06,
          "ps_l": -6.529172463321917,
          "ps_u": 5.959886468270193,
          "ps_up": -14.596276746700442,
          "ps_v": 1.4475188747787144e-06,
          "ps_vp": 1.0377708296447046e-05,
          "sourceID": 16777220,
          "t_event": 305.8515459090046
         },
         {
          "particleID": 2,
          "ps_delta": 3.1756105671813168e-06,
          "ps_l": -4.58505668575416,
          "ps_u": 4.438826248987004,
          "ps_up": -9.510464699116003,
          "ps_v": 6.9557844629310885,
          "ps_vp": -0.9481840040306775,
          "sourceID": 16777220,
          "t_event": 304.7047158609723
         },
         {
          "particleID": 3,
          "ps_delta": -2.6952710844805184e-07,
          "ps_l": -0.02986689899379308,
          "ps_u": 0.173666567692662,
          "ps_up": 0.6008896467272605,
          "ps_v": 9.539994608802248,
          "ps_vp": -2.4458033212777375,
          "sourceID": 16777220,
          "t_event": 302.01761842458296
         },
         {
          "particleID": 4,
          "ps_delta": -1.7177852225287833e-06,
          "ps_l": 4.366596799491855,
          "ps_u": -4.589378697111222,
          "ps_up": 9.112134810975686,
          "ps_v": 6.63354154192393,
          "ps_vp": -2.0703817122587416,
          "sourceID": 16777220,
          "t_event": 299.42415319340506
         },
         {
          "particleID": 5,
          "ps_delta": -2.120458348207126e-06,
          "ps_l": 6.134983270138707,
          "ps_u": -6.538596894199616,
          "ps_up": 12.848507415596234,
          "ps_v": -7.840610452313507e-06,
          "ps_vp": -7.21440273539643e-05,
          "sourceID": 16777220,
          "t_event": 298.380985515599
         },
         {
          "particleID": 6,
          "ps_delta": -1.8406254288995426e-06,
          "ps_l": 4.366567751362093,
          "ps_u": -4.589398417160238,
          "ps_up": 9.11197889399404,
          "ps_v": -6.633546399303452,
          "ps_vp": 2.070346595333861,
          "sourceID": 16777220,
          "t_event": 299.4241703288393
         },
         {
          "particleID": 7,
          "ps_delta": -3.780951426627667e-07,
          "ps_l": -0.02994192889419064,
          "ps_u": 0.17364904586579033,
          "ps_up": 0.6008006256134737,
          "ps_v": -9.539985329958796,
          "ps_vp": 2.4459166890489357,
          "sourceID": 16777220,
          "t_event": 302.01766268457266
         },
         {
          "particleID": 8,
          "ps_delta": 3.0873124570218618e-06,
          "ps_l": -4.585076529672503,
          "ps_u": 4.438830524274434,
          "ps_up": -9.51045228628238,
          "ps_v": -6.955776334753149,
          "ps_vp": 0.9482682991518162,
          "sourceID": 16777220,
          "t_event": 304.70472756686047
         },
         {
          "particleID": 9,
          "ps_delta": -1.039825819430656e-05,
          "ps_l": -13.51774546045351,
          "ps_u": 9.967948071078222,
          "ps_up": -35.77677353666998,
          "ps_v": -1.3881810749995305e-06,
          "ps_vp": -2.2067460735745516e-05,
          "sourceID": 16777220,
          "t_event": 309.97409128333635
         },
         {
          "particleID": 10,
          "ps_delta": 7.6217438622767285e-06,
          "ps_l": -9.376043284846345,
          "ps_u": 8.403105909626657,
          "ps_up": -20.35692645808426,
          "ps_v": 14.380561640861748,
          "ps_vp": -0.14747824849192118,
          "sourceID": 16777220,
          "t_event": 307.5309093701021
         },
         {
          "particleID": 11,
          "ps_delta": -8.579055164313529e-07,
          "ps_l": -0.1403539026070129,
          "ps_u": 0.8538640147987979,
          "ps_up": 2.9804941395884343,
          "ps_v": 18.848596968463024,
          "ps_vp": -5.998247514642686,
          "sourceID": 16777220,
          "t_event": 302.0827944892612
         },
         {
          "particleID": 12,
          "ps_delta": -4.353005967289048e-06,
          "ps_l": 8.512297355595448,
          "ps_u": -9.274167793914334,
          "ps_up": 17.94177226636488,
          "ps_v": 13.10399213092496,
          "ps_vp": -4.591890113274621,
          "sourceID": 16777220,
          "t_event": 296.97861264343237
         },
         {
          "particleID": 13,
          "ps_delta": -0.00010634405801756135,
          "ps_l": 11.762682402819054,
          "ps_u": -12.354680773375597,
          "ps_up": 29.05721389694143,
          "ps_v": -2.178564384057595e-05,
          "ps_vp": -0.00019683763592722058,
          "sourceID": 16777220,
          "t_event": 295.06121693951275
         },
         {
          "particleID": 14,
          "ps_delta": -4.5355121372344345e-06,
          "ps_l": 8.512234020088176,
          "ps_u": -9.274216608510304,
          "ps_up": 17.941316385071076,
          "ps_v": -13.103998937471783,
          "ps_vp": 4.591852571364469,
          "sourceID": 16777220,
          "t_event": 296.9786500049227
         },
         {
          "particleID": 15,
          "ps_delta": -1.1088416842234002e-06,
          "ps_l": -0.14042614803740522,
          "ps_u": 0.8538615645150446,
          "ps_up": 2.980299696736246,
          "ps_v": -18.848558076767585,
          "ps_vp": 5.9987060921154045,
          "sourceID": 16777220,
          "t_event": 302.0828371066975
         },
         {
          "particleID": 16,
          "ps_delta": 7.467690912296649e-06,
          "ps_l": -9.376108722657909,
          "ps_u": 8.403125598924678,
          "ps_up": -20.356731947145946,
          "ps_v": -14.380542625852502,
          "ps_vp": 0.14771626971634788,
          "sourceID": 16777220,
          "t_event": 307.5309479717376
         }
        ]
       },
       "encoding": {
        "x": {
         "axis": {
          "title": "X"
         },
         "field": "ps_u",
         "type": "quantitative"
        },
        "y": {
         "axis": {
          "title": "X"
         },
         "field": "ps_up",
         "type": "quantitative"
        }
       },
       "mark": "circle"
      },
      "text/plain": [
       "<altair.VegaLite object>"
      ]
     },
     "execution_count": 13,
     "metadata": {},
     "output_type": "execute_result"
    }
   ],
   "source": [
    "ps_u = alt.Chart(data).mark_circle().encode(\n",
    "    x=alt.X('ps_u', axis=alt.Axis(title='X')),\n",
    "    y=alt.Y('ps_up', axis=alt.Axis(title='X')))\n",
    "ps_u\n"
   ]
  },
  {
   "cell_type": "code",
   "execution_count": 14,
   "metadata": {},
   "outputs": [
    {
     "data": {
      "application/vnd.vegalite.v1+json": {
       "$schema": "https://vega.github.io/schema/vega-lite/v1.2.1.json",
       "data": {
        "values": [
         {
          "particleID": 0,
          "ps_delta": 0,
          "ps_l": 0,
          "ps_u": 0,
          "ps_up": -1.606765911485471e-14,
          "ps_v": 0,
          "ps_vp": -3.946328189841796e-20,
          "sourceID": 16777220,
          "t_event": 302
         },
         {
          "particleID": 1,
          "ps_delta": 5.304683007669138e-06,
          "ps_l": -6.529172463321917,
          "ps_u": 5.959886468270193,
          "ps_up": -14.596276746700442,
          "ps_v": 1.4475188747787144e-06,
          "ps_vp": 1.0377708296447046e-05,
          "sourceID": 16777220,
          "t_event": 305.8515459090046
         },
         {
          "particleID": 2,
          "ps_delta": 3.1756105671813168e-06,
          "ps_l": -4.58505668575416,
          "ps_u": 4.438826248987004,
          "ps_up": -9.510464699116003,
          "ps_v": 6.9557844629310885,
          "ps_vp": -0.9481840040306775,
          "sourceID": 16777220,
          "t_event": 304.7047158609723
         },
         {
          "particleID": 3,
          "ps_delta": -2.6952710844805184e-07,
          "ps_l": -0.02986689899379308,
          "ps_u": 0.173666567692662,
          "ps_up": 0.6008896467272605,
          "ps_v": 9.539994608802248,
          "ps_vp": -2.4458033212777375,
          "sourceID": 16777220,
          "t_event": 302.01761842458296
         },
         {
          "particleID": 4,
          "ps_delta": -1.7177852225287833e-06,
          "ps_l": 4.366596799491855,
          "ps_u": -4.589378697111222,
          "ps_up": 9.112134810975686,
          "ps_v": 6.63354154192393,
          "ps_vp": -2.0703817122587416,
          "sourceID": 16777220,
          "t_event": 299.42415319340506
         },
         {
          "particleID": 5,
          "ps_delta": -2.120458348207126e-06,
          "ps_l": 6.134983270138707,
          "ps_u": -6.538596894199616,
          "ps_up": 12.848507415596234,
          "ps_v": -7.840610452313507e-06,
          "ps_vp": -7.21440273539643e-05,
          "sourceID": 16777220,
          "t_event": 298.380985515599
         },
         {
          "particleID": 6,
          "ps_delta": -1.8406254288995426e-06,
          "ps_l": 4.366567751362093,
          "ps_u": -4.589398417160238,
          "ps_up": 9.11197889399404,
          "ps_v": -6.633546399303452,
          "ps_vp": 2.070346595333861,
          "sourceID": 16777220,
          "t_event": 299.4241703288393
         },
         {
          "particleID": 7,
          "ps_delta": -3.780951426627667e-07,
          "ps_l": -0.02994192889419064,
          "ps_u": 0.17364904586579033,
          "ps_up": 0.6008006256134737,
          "ps_v": -9.539985329958796,
          "ps_vp": 2.4459166890489357,
          "sourceID": 16777220,
          "t_event": 302.01766268457266
         },
         {
          "particleID": 8,
          "ps_delta": 3.0873124570218618e-06,
          "ps_l": -4.585076529672503,
          "ps_u": 4.438830524274434,
          "ps_up": -9.51045228628238,
          "ps_v": -6.955776334753149,
          "ps_vp": 0.9482682991518162,
          "sourceID": 16777220,
          "t_event": 304.70472756686047
         },
         {
          "particleID": 9,
          "ps_delta": -1.039825819430656e-05,
          "ps_l": -13.51774546045351,
          "ps_u": 9.967948071078222,
          "ps_up": -35.77677353666998,
          "ps_v": -1.3881810749995305e-06,
          "ps_vp": -2.2067460735745516e-05,
          "sourceID": 16777220,
          "t_event": 309.97409128333635
         },
         {
          "particleID": 10,
          "ps_delta": 7.6217438622767285e-06,
          "ps_l": -9.376043284846345,
          "ps_u": 8.403105909626657,
          "ps_up": -20.35692645808426,
          "ps_v": 14.380561640861748,
          "ps_vp": -0.14747824849192118,
          "sourceID": 16777220,
          "t_event": 307.5309093701021
         },
         {
          "particleID": 11,
          "ps_delta": -8.579055164313529e-07,
          "ps_l": -0.1403539026070129,
          "ps_u": 0.8538640147987979,
          "ps_up": 2.9804941395884343,
          "ps_v": 18.848596968463024,
          "ps_vp": -5.998247514642686,
          "sourceID": 16777220,
          "t_event": 302.0827944892612
         },
         {
          "particleID": 12,
          "ps_delta": -4.353005967289048e-06,
          "ps_l": 8.512297355595448,
          "ps_u": -9.274167793914334,
          "ps_up": 17.94177226636488,
          "ps_v": 13.10399213092496,
          "ps_vp": -4.591890113274621,
          "sourceID": 16777220,
          "t_event": 296.97861264343237
         },
         {
          "particleID": 13,
          "ps_delta": -0.00010634405801756135,
          "ps_l": 11.762682402819054,
          "ps_u": -12.354680773375597,
          "ps_up": 29.05721389694143,
          "ps_v": -2.178564384057595e-05,
          "ps_vp": -0.00019683763592722058,
          "sourceID": 16777220,
          "t_event": 295.06121693951275
         },
         {
          "particleID": 14,
          "ps_delta": -4.5355121372344345e-06,
          "ps_l": 8.512234020088176,
          "ps_u": -9.274216608510304,
          "ps_up": 17.941316385071076,
          "ps_v": -13.103998937471783,
          "ps_vp": 4.591852571364469,
          "sourceID": 16777220,
          "t_event": 296.9786500049227
         },
         {
          "particleID": 15,
          "ps_delta": -1.1088416842234002e-06,
          "ps_l": -0.14042614803740522,
          "ps_u": 0.8538615645150446,
          "ps_up": 2.980299696736246,
          "ps_v": -18.848558076767585,
          "ps_vp": 5.9987060921154045,
          "sourceID": 16777220,
          "t_event": 302.0828371066975
         },
         {
          "particleID": 16,
          "ps_delta": 7.467690912296649e-06,
          "ps_l": -9.376108722657909,
          "ps_u": 8.403125598924678,
          "ps_up": -20.356731947145946,
          "ps_v": -14.380542625852502,
          "ps_vp": 0.14771626971634788,
          "sourceID": 16777220,
          "t_event": 307.5309479717376
         }
        ]
       },
       "encoding": {
        "x": {
         "axis": {
          "title": "Y"
         },
         "field": "ps_v",
         "type": "quantitative"
        },
        "y": {
         "axis": {
          "title": "Y"
         },
         "field": "ps_vp",
         "type": "quantitative"
        }
       },
       "mark": "circle"
      },
      "text/plain": [
       "<altair.VegaLite object>"
      ]
     },
     "execution_count": 14,
     "metadata": {},
     "output_type": "execute_result"
    }
   ],
   "source": [
    "ps_v = alt.Chart(data).mark_circle().encode(\n",
    "    x=alt.X('ps_v', axis=alt.Axis(title='Y')),\n",
    "    y=alt.Y('ps_vp', axis=alt.Axis(title='Y')),\n",
    ")\n",
    "ps_v"
   ]
  },
  {
   "cell_type": "code",
   "execution_count": 15,
   "metadata": {},
   "outputs": [
    {
     "data": {
      "application/vnd.vegalite.v1+json": {
       "$schema": "https://vega.github.io/schema/vega-lite/v1.2.1.json",
       "data": {
        "values": [
         {
          "particleID": 0,
          "ps_delta": 0,
          "ps_l": 0,
          "ps_u": 0,
          "ps_up": -1.606765911485471e-14,
          "ps_v": 0,
          "ps_vp": -3.946328189841796e-20,
          "sourceID": 16777220,
          "t_event": 302
         },
         {
          "particleID": 1,
          "ps_delta": 5.304683007669138e-06,
          "ps_l": -6.529172463321917,
          "ps_u": 5.959886468270193,
          "ps_up": -14.596276746700442,
          "ps_v": 1.4475188747787144e-06,
          "ps_vp": 1.0377708296447046e-05,
          "sourceID": 16777220,
          "t_event": 305.8515459090046
         },
         {
          "particleID": 2,
          "ps_delta": 3.1756105671813168e-06,
          "ps_l": -4.58505668575416,
          "ps_u": 4.438826248987004,
          "ps_up": -9.510464699116003,
          "ps_v": 6.9557844629310885,
          "ps_vp": -0.9481840040306775,
          "sourceID": 16777220,
          "t_event": 304.7047158609723
         },
         {
          "particleID": 3,
          "ps_delta": -2.6952710844805184e-07,
          "ps_l": -0.02986689899379308,
          "ps_u": 0.173666567692662,
          "ps_up": 0.6008896467272605,
          "ps_v": 9.539994608802248,
          "ps_vp": -2.4458033212777375,
          "sourceID": 16777220,
          "t_event": 302.01761842458296
         },
         {
          "particleID": 4,
          "ps_delta": -1.7177852225287833e-06,
          "ps_l": 4.366596799491855,
          "ps_u": -4.589378697111222,
          "ps_up": 9.112134810975686,
          "ps_v": 6.63354154192393,
          "ps_vp": -2.0703817122587416,
          "sourceID": 16777220,
          "t_event": 299.42415319340506
         },
         {
          "particleID": 5,
          "ps_delta": -2.120458348207126e-06,
          "ps_l": 6.134983270138707,
          "ps_u": -6.538596894199616,
          "ps_up": 12.848507415596234,
          "ps_v": -7.840610452313507e-06,
          "ps_vp": -7.21440273539643e-05,
          "sourceID": 16777220,
          "t_event": 298.380985515599
         },
         {
          "particleID": 6,
          "ps_delta": -1.8406254288995426e-06,
          "ps_l": 4.366567751362093,
          "ps_u": -4.589398417160238,
          "ps_up": 9.11197889399404,
          "ps_v": -6.633546399303452,
          "ps_vp": 2.070346595333861,
          "sourceID": 16777220,
          "t_event": 299.4241703288393
         },
         {
          "particleID": 7,
          "ps_delta": -3.780951426627667e-07,
          "ps_l": -0.02994192889419064,
          "ps_u": 0.17364904586579033,
          "ps_up": 0.6008006256134737,
          "ps_v": -9.539985329958796,
          "ps_vp": 2.4459166890489357,
          "sourceID": 16777220,
          "t_event": 302.01766268457266
         },
         {
          "particleID": 8,
          "ps_delta": 3.0873124570218618e-06,
          "ps_l": -4.585076529672503,
          "ps_u": 4.438830524274434,
          "ps_up": -9.51045228628238,
          "ps_v": -6.955776334753149,
          "ps_vp": 0.9482682991518162,
          "sourceID": 16777220,
          "t_event": 304.70472756686047
         },
         {
          "particleID": 9,
          "ps_delta": -1.039825819430656e-05,
          "ps_l": -13.51774546045351,
          "ps_u": 9.967948071078222,
          "ps_up": -35.77677353666998,
          "ps_v": -1.3881810749995305e-06,
          "ps_vp": -2.2067460735745516e-05,
          "sourceID": 16777220,
          "t_event": 309.97409128333635
         },
         {
          "particleID": 10,
          "ps_delta": 7.6217438622767285e-06,
          "ps_l": -9.376043284846345,
          "ps_u": 8.403105909626657,
          "ps_up": -20.35692645808426,
          "ps_v": 14.380561640861748,
          "ps_vp": -0.14747824849192118,
          "sourceID": 16777220,
          "t_event": 307.5309093701021
         },
         {
          "particleID": 11,
          "ps_delta": -8.579055164313529e-07,
          "ps_l": -0.1403539026070129,
          "ps_u": 0.8538640147987979,
          "ps_up": 2.9804941395884343,
          "ps_v": 18.848596968463024,
          "ps_vp": -5.998247514642686,
          "sourceID": 16777220,
          "t_event": 302.0827944892612
         },
         {
          "particleID": 12,
          "ps_delta": -4.353005967289048e-06,
          "ps_l": 8.512297355595448,
          "ps_u": -9.274167793914334,
          "ps_up": 17.94177226636488,
          "ps_v": 13.10399213092496,
          "ps_vp": -4.591890113274621,
          "sourceID": 16777220,
          "t_event": 296.97861264343237
         },
         {
          "particleID": 13,
          "ps_delta": -0.00010634405801756135,
          "ps_l": 11.762682402819054,
          "ps_u": -12.354680773375597,
          "ps_up": 29.05721389694143,
          "ps_v": -2.178564384057595e-05,
          "ps_vp": -0.00019683763592722058,
          "sourceID": 16777220,
          "t_event": 295.06121693951275
         },
         {
          "particleID": 14,
          "ps_delta": -4.5355121372344345e-06,
          "ps_l": 8.512234020088176,
          "ps_u": -9.274216608510304,
          "ps_up": 17.941316385071076,
          "ps_v": -13.103998937471783,
          "ps_vp": 4.591852571364469,
          "sourceID": 16777220,
          "t_event": 296.9786500049227
         },
         {
          "particleID": 15,
          "ps_delta": -1.1088416842234002e-06,
          "ps_l": -0.14042614803740522,
          "ps_u": 0.8538615645150446,
          "ps_up": 2.980299696736246,
          "ps_v": -18.848558076767585,
          "ps_vp": 5.9987060921154045,
          "sourceID": 16777220,
          "t_event": 302.0828371066975
         },
         {
          "particleID": 16,
          "ps_delta": 7.467690912296649e-06,
          "ps_l": -9.376108722657909,
          "ps_u": 8.403125598924678,
          "ps_up": -20.356731947145946,
          "ps_v": -14.380542625852502,
          "ps_vp": 0.14771626971634788,
          "sourceID": 16777220,
          "t_event": 307.5309479717376
         }
        ]
       },
       "encoding": {
        "x": {
         "axis": {
          "title": "X"
         },
         "field": "ps_u",
         "type": "quantitative"
        },
        "y": {
         "axis": {
          "title": "Y"
         },
         "field": "ps_v",
         "type": "quantitative"
        }
       },
       "mark": "circle"
      },
      "text/plain": [
       "<altair.VegaLite object>"
      ]
     },
     "execution_count": 15,
     "metadata": {},
     "output_type": "execute_result"
    }
   ],
   "source": [
    "rs = alt.Chart(data).mark_circle().encode(\n",
    "    x=alt.X('ps_u', axis=alt.Axis(title='X')),\n",
    "    y=alt.Y('ps_v', axis=alt.Axis(title='Y')),\n",
    ")\n",
    "rs"
   ]
  },
  {
   "cell_type": "code",
   "execution_count": 16,
   "metadata": {},
   "outputs": [
    {
     "data": {
      "application/vnd.vegalite.v1+json": {
       "$schema": "https://vega.github.io/schema/vega-lite/v1.2.1.json",
       "data": {
        "values": [
         {
          "particleID": 0,
          "ps_delta": 0,
          "ps_l": 0,
          "ps_u": 0,
          "ps_up": -1.606765911485471e-14,
          "ps_v": 0,
          "ps_vp": -3.946328189841796e-20,
          "sourceID": 16777220,
          "t_event": 302
         },
         {
          "particleID": 1,
          "ps_delta": 5.304683007669138e-06,
          "ps_l": -6.529172463321917,
          "ps_u": 5.959886468270193,
          "ps_up": -14.596276746700442,
          "ps_v": 1.4475188747787144e-06,
          "ps_vp": 1.0377708296447046e-05,
          "sourceID": 16777220,
          "t_event": 305.8515459090046
         },
         {
          "particleID": 2,
          "ps_delta": 3.1756105671813168e-06,
          "ps_l": -4.58505668575416,
          "ps_u": 4.438826248987004,
          "ps_up": -9.510464699116003,
          "ps_v": 6.9557844629310885,
          "ps_vp": -0.9481840040306775,
          "sourceID": 16777220,
          "t_event": 304.7047158609723
         },
         {
          "particleID": 3,
          "ps_delta": -2.6952710844805184e-07,
          "ps_l": -0.02986689899379308,
          "ps_u": 0.173666567692662,
          "ps_up": 0.6008896467272605,
          "ps_v": 9.539994608802248,
          "ps_vp": -2.4458033212777375,
          "sourceID": 16777220,
          "t_event": 302.01761842458296
         },
         {
          "particleID": 4,
          "ps_delta": -1.7177852225287833e-06,
          "ps_l": 4.366596799491855,
          "ps_u": -4.589378697111222,
          "ps_up": 9.112134810975686,
          "ps_v": 6.63354154192393,
          "ps_vp": -2.0703817122587416,
          "sourceID": 16777220,
          "t_event": 299.42415319340506
         },
         {
          "particleID": 5,
          "ps_delta": -2.120458348207126e-06,
          "ps_l": 6.134983270138707,
          "ps_u": -6.538596894199616,
          "ps_up": 12.848507415596234,
          "ps_v": -7.840610452313507e-06,
          "ps_vp": -7.21440273539643e-05,
          "sourceID": 16777220,
          "t_event": 298.380985515599
         },
         {
          "particleID": 6,
          "ps_delta": -1.8406254288995426e-06,
          "ps_l": 4.366567751362093,
          "ps_u": -4.589398417160238,
          "ps_up": 9.11197889399404,
          "ps_v": -6.633546399303452,
          "ps_vp": 2.070346595333861,
          "sourceID": 16777220,
          "t_event": 299.4241703288393
         },
         {
          "particleID": 7,
          "ps_delta": -3.780951426627667e-07,
          "ps_l": -0.02994192889419064,
          "ps_u": 0.17364904586579033,
          "ps_up": 0.6008006256134737,
          "ps_v": -9.539985329958796,
          "ps_vp": 2.4459166890489357,
          "sourceID": 16777220,
          "t_event": 302.01766268457266
         },
         {
          "particleID": 8,
          "ps_delta": 3.0873124570218618e-06,
          "ps_l": -4.585076529672503,
          "ps_u": 4.438830524274434,
          "ps_up": -9.51045228628238,
          "ps_v": -6.955776334753149,
          "ps_vp": 0.9482682991518162,
          "sourceID": 16777220,
          "t_event": 304.70472756686047
         },
         {
          "particleID": 9,
          "ps_delta": -1.039825819430656e-05,
          "ps_l": -13.51774546045351,
          "ps_u": 9.967948071078222,
          "ps_up": -35.77677353666998,
          "ps_v": -1.3881810749995305e-06,
          "ps_vp": -2.2067460735745516e-05,
          "sourceID": 16777220,
          "t_event": 309.97409128333635
         },
         {
          "particleID": 10,
          "ps_delta": 7.6217438622767285e-06,
          "ps_l": -9.376043284846345,
          "ps_u": 8.403105909626657,
          "ps_up": -20.35692645808426,
          "ps_v": 14.380561640861748,
          "ps_vp": -0.14747824849192118,
          "sourceID": 16777220,
          "t_event": 307.5309093701021
         },
         {
          "particleID": 11,
          "ps_delta": -8.579055164313529e-07,
          "ps_l": -0.1403539026070129,
          "ps_u": 0.8538640147987979,
          "ps_up": 2.9804941395884343,
          "ps_v": 18.848596968463024,
          "ps_vp": -5.998247514642686,
          "sourceID": 16777220,
          "t_event": 302.0827944892612
         },
         {
          "particleID": 12,
          "ps_delta": -4.353005967289048e-06,
          "ps_l": 8.512297355595448,
          "ps_u": -9.274167793914334,
          "ps_up": 17.94177226636488,
          "ps_v": 13.10399213092496,
          "ps_vp": -4.591890113274621,
          "sourceID": 16777220,
          "t_event": 296.97861264343237
         },
         {
          "particleID": 13,
          "ps_delta": -0.00010634405801756135,
          "ps_l": 11.762682402819054,
          "ps_u": -12.354680773375597,
          "ps_up": 29.05721389694143,
          "ps_v": -2.178564384057595e-05,
          "ps_vp": -0.00019683763592722058,
          "sourceID": 16777220,
          "t_event": 295.06121693951275
         },
         {
          "particleID": 14,
          "ps_delta": -4.5355121372344345e-06,
          "ps_l": 8.512234020088176,
          "ps_u": -9.274216608510304,
          "ps_up": 17.941316385071076,
          "ps_v": -13.103998937471783,
          "ps_vp": 4.591852571364469,
          "sourceID": 16777220,
          "t_event": 296.9786500049227
         },
         {
          "particleID": 15,
          "ps_delta": -1.1088416842234002e-06,
          "ps_l": -0.14042614803740522,
          "ps_u": 0.8538615645150446,
          "ps_up": 2.980299696736246,
          "ps_v": -18.848558076767585,
          "ps_vp": 5.9987060921154045,
          "sourceID": 16777220,
          "t_event": 302.0828371066975
         },
         {
          "particleID": 16,
          "ps_delta": 7.467690912296649e-06,
          "ps_l": -9.376108722657909,
          "ps_u": 8.403125598924678,
          "ps_up": -20.356731947145946,
          "ps_v": -14.380542625852502,
          "ps_vp": 0.14771626971634788,
          "sourceID": 16777220,
          "t_event": 307.5309479717376
         }
        ]
       },
       "encoding": {
        "x": {
         "axis": {
          "title": "l"
         },
         "field": "ps_l",
         "type": "quantitative"
        },
        "y": {
         "axis": {
          "title": "delta"
         },
         "field": "ps_delta",
         "type": "quantitative"
        }
       },
       "mark": "circle"
      },
      "text/plain": [
       "<altair.VegaLite object>"
      ]
     },
     "execution_count": 16,
     "metadata": {},
     "output_type": "execute_result"
    }
   ],
   "source": [
    "ls = alt.Chart(data).mark_circle().encode(\n",
    "    x=alt.X('ps_l', axis=alt.Axis(title='l')),\n",
    "    y=alt.Y('ps_delta', axis=alt.Axis(title='delta')),\n",
    ")\n",
    "ls"
   ]
  },
  {
   "cell_type": "code",
   "execution_count": 17,
   "metadata": {},
   "outputs": [
    {
     "data": {
      "text/plain": [
       "array([ -8.52985687e+01,   9.52011011e-05,   5.01515274e+02])"
      ]
     },
     "execution_count": 17,
     "metadata": {},
     "output_type": "execute_result"
    }
   ],
   "source": [
    "pm.r0"
   ]
  },
  {
   "cell_type": "code",
   "execution_count": 18,
   "metadata": {},
   "outputs": [
    {
     "data": {
      "text/plain": [
       "array([  0.        ,   5.95988647,   4.43882625,   0.17366657,\n",
       "        -4.5893787 ,  -6.53859689,  -4.58939842,   0.17364905,\n",
       "         4.43883052,   9.96794807,   8.40310591,   0.85386401,\n",
       "        -9.27416779, -12.35468077,  -9.27421661,   0.85386156,   8.4031256 ])"
      ]
     },
     "execution_count": 18,
     "metadata": {},
     "output_type": "execute_result"
    }
   ],
   "source": [
    "x = data.ps_u.values\n",
    "x"
   ]
  },
  {
   "cell_type": "code",
   "execution_count": 19,
   "metadata": {},
   "outputs": [
    {
     "data": {
      "text/plain": [
       "array([ -1.60676591e-14,  -1.45962767e+01,  -9.51046470e+00,\n",
       "         6.00889647e-01,   9.11213481e+00,   1.28485074e+01,\n",
       "         9.11197889e+00,   6.00800626e-01,  -9.51045229e+00,\n",
       "        -3.57767735e+01,  -2.03569265e+01,   2.98049414e+00,\n",
       "         1.79417723e+01,   2.90572139e+01,   1.79413164e+01,\n",
       "         2.98029970e+00,  -2.03567319e+01])"
      ]
     },
     "execution_count": 19,
     "metadata": {},
     "output_type": "execute_result"
    }
   ],
   "source": [
    "xp = data.ps_up.values\n",
    "xp"
   ]
  },
  {
   "cell_type": "code",
   "execution_count": 20,
   "metadata": {},
   "outputs": [
    {
     "data": {
      "text/plain": [
       "array([  0.00000000e+00,   1.44751887e-06,   6.95578446e+00,\n",
       "         9.53999461e+00,   6.63354154e+00,  -7.84061045e-06,\n",
       "        -6.63354640e+00,  -9.53998533e+00,  -6.95577633e+00,\n",
       "        -1.38818107e-06,   1.43805616e+01,   1.88485970e+01,\n",
       "         1.31039921e+01,  -2.17856438e-05,  -1.31039989e+01,\n",
       "        -1.88485581e+01,  -1.43805426e+01])"
      ]
     },
     "execution_count": 20,
     "metadata": {},
     "output_type": "execute_result"
    }
   ],
   "source": [
    "y = data.ps_v.values\n",
    "y"
   ]
  },
  {
   "cell_type": "code",
   "execution_count": 21,
   "metadata": {},
   "outputs": [
    {
     "data": {
      "text/plain": [
       "array([ -3.94632819e-20,   1.03777083e-05,  -9.48184004e-01,\n",
       "        -2.44580332e+00,  -2.07038171e+00,  -7.21440274e-05,\n",
       "         2.07034660e+00,   2.44591669e+00,   9.48268299e-01,\n",
       "        -2.20674607e-05,  -1.47478248e-01,  -5.99824751e+00,\n",
       "        -4.59189011e+00,  -1.96837636e-04,   4.59185257e+00,\n",
       "         5.99870609e+00,   1.47716270e-01])"
      ]
     },
     "execution_count": 21,
     "metadata": {},
     "output_type": "execute_result"
    }
   ],
   "source": [
    "yp = data.ps_vp.values\n",
    "yp"
   ]
  },
  {
   "cell_type": "code",
   "execution_count": 22,
   "metadata": {},
   "outputs": [
    {
     "data": {
      "text/plain": [
       "25.922206521320479"
      ]
     },
     "execution_count": 22,
     "metadata": {},
     "output_type": "execute_result"
    }
   ],
   "source": [
    "emittance(x,xp)"
   ]
  },
  {
   "cell_type": "code",
   "execution_count": 23,
   "metadata": {},
   "outputs": [
    {
     "data": {
      "text/plain": [
       "15.121320095481705"
      ]
     },
     "execution_count": 23,
     "metadata": {},
     "output_type": "execute_result"
    }
   ],
   "source": [
    "emittance(y,yp)"
   ]
  },
  {
   "cell_type": "code",
   "execution_count": 24,
   "metadata": {},
   "outputs": [
    {
     "data": {
      "text/plain": [
       "25.922206521320479"
      ]
     },
     "execution_count": 24,
     "metadata": {},
     "output_type": "execute_result"
    }
   ],
   "source": [
    "emittance_u(data)"
   ]
  },
  {
   "cell_type": "code",
   "execution_count": 25,
   "metadata": {},
   "outputs": [
    {
     "data": {
      "text/plain": [
       "15.121320095481705"
      ]
     },
     "execution_count": 25,
     "metadata": {},
     "output_type": "execute_result"
    }
   ],
   "source": [
    "emittance_v(data)"
   ]
  }
 ],
 "metadata": {
  "kernelspec": {
   "display_name": "Python 3",
   "language": "python",
   "name": "python3"
  },
  "language_info": {
   "codemirror_mode": {
    "name": "ipython",
    "version": 3
   },
   "file_extension": ".py",
   "mimetype": "text/x-python",
   "name": "python",
   "nbconvert_exporter": "python",
   "pygments_lexer": "ipython3",
   "version": "3.6.3"
  }
 },
 "nbformat": 4,
 "nbformat_minor": 2
}
