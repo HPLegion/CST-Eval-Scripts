{
 "cells": [
  {
   "cell_type": "code",
   "execution_count": 1,
   "metadata": {},
   "outputs": [],
   "source": [
    "import numpy as np\n",
    "import pandas as pd\n",
    "import import_particle_data as i_p_d\n",
    "from trajectory import Trajectory\n",
    "from particlemonitor import ParticleMonitor\n",
    "import os\n",
    "import altair as alt\n",
    "alt.enable_mime_rendering()"
   ]
  },
  {
   "cell_type": "code",
   "execution_count": 2,
   "metadata": {},
   "outputs": [
    {
     "name": "stdout",
     "output_type": "stream",
     "text": [
      "Z:\\hapahl\\PhD\\GitHubRepos\\CST-Eval-Scripts\\python\\PhaseSpaceEval\\data\\\n"
     ]
    }
   ],
   "source": [
    "data_path = os.path.dirname(os.getcwd()) + \"\\\\PhaseSpaceEval\\\\data\\\\\"\n",
    "print(data_path)"
   ]
  },
  {
   "cell_type": "code",
   "execution_count": 3,
   "metadata": {},
   "outputs": [],
   "source": [
    "constantsFile = data_path + \"particle_constants.txt\"\n",
    "particle_constants = i_p_d.import_particle_constants(constantsFile)"
   ]
  },
  {
   "cell_type": "code",
   "execution_count": 4,
   "metadata": {},
   "outputs": [
    {
     "name": "stdout",
     "output_type": "stream",
     "text": [
      "Imported particle trajectory:\n",
      "0, \n",
      "1, 2, 3, 4, 5, 6, 7, 8, 9, 10, 11, 12, 13, 14, 15, 16, \n",
      "Reached EOF\n"
     ]
    }
   ],
   "source": [
    "trajectoriesFile = data_path + \"particle_trajectories.txt\"\n",
    "particle_trajectories = i_p_d.import_particle_trajectories(trajectoriesFile)"
   ]
  },
  {
   "cell_type": "code",
   "execution_count": 5,
   "metadata": {},
   "outputs": [
    {
     "name": "stdout",
     "output_type": "stream",
     "text": [
      "{16777220: 'particle interface 1'}\n"
     ]
    }
   ],
   "source": [
    "sourceIDFile = data_path + \"source_names.txt\"\n",
    "names = i_p_d.import_source_names(sourceIDFile)\n",
    "print(names)"
   ]
  },
  {
   "cell_type": "code",
   "execution_count": 6,
   "metadata": {},
   "outputs": [
    {
     "data": {
      "text/html": [
       "<div>\n",
       "<style>\n",
       "    .dataframe thead tr:only-child th {\n",
       "        text-align: right;\n",
       "    }\n",
       "\n",
       "    .dataframe thead th {\n",
       "        text-align: left;\n",
       "    }\n",
       "\n",
       "    .dataframe tbody tr th {\n",
       "        vertical-align: top;\n",
       "    }\n",
       "</style>\n",
       "<table border=\"1\" class=\"dataframe\">\n",
       "  <thead>\n",
       "    <tr style=\"text-align: right;\">\n",
       "      <th></th>\n",
       "      <th>mass</th>\n",
       "      <th>macroCharge</th>\n",
       "      <th>sourceID</th>\n",
       "    </tr>\n",
       "    <tr>\n",
       "      <th>particleID</th>\n",
       "      <th></th>\n",
       "      <th></th>\n",
       "      <th></th>\n",
       "    </tr>\n",
       "  </thead>\n",
       "  <tbody>\n",
       "    <tr>\n",
       "      <th>0</th>\n",
       "      <td>2.007146e-26</td>\n",
       "      <td>4.882776e-13</td>\n",
       "      <td>16777220</td>\n",
       "    </tr>\n",
       "    <tr>\n",
       "      <th>1</th>\n",
       "      <td>2.007146e-26</td>\n",
       "      <td>4.882776e-13</td>\n",
       "      <td>16777220</td>\n",
       "    </tr>\n",
       "    <tr>\n",
       "      <th>2</th>\n",
       "      <td>2.007146e-26</td>\n",
       "      <td>4.882776e-13</td>\n",
       "      <td>16777220</td>\n",
       "    </tr>\n",
       "    <tr>\n",
       "      <th>3</th>\n",
       "      <td>2.007146e-26</td>\n",
       "      <td>4.882776e-13</td>\n",
       "      <td>16777220</td>\n",
       "    </tr>\n",
       "    <tr>\n",
       "      <th>4</th>\n",
       "      <td>2.007146e-26</td>\n",
       "      <td>4.882776e-13</td>\n",
       "      <td>16777220</td>\n",
       "    </tr>\n",
       "  </tbody>\n",
       "</table>\n",
       "</div>"
      ],
      "text/plain": [
       "                    mass   macroCharge  sourceID\n",
       "particleID                                      \n",
       "0           2.007146e-26  4.882776e-13  16777220\n",
       "1           2.007146e-26  4.882776e-13  16777220\n",
       "2           2.007146e-26  4.882776e-13  16777220\n",
       "3           2.007146e-26  4.882776e-13  16777220\n",
       "4           2.007146e-26  4.882776e-13  16777220"
      ]
     },
     "execution_count": 6,
     "metadata": {},
     "output_type": "execute_result"
    }
   ],
   "source": [
    "particle_constants.head()"
   ]
  },
  {
   "cell_type": "code",
   "execution_count": 7,
   "metadata": {},
   "outputs": [
    {
     "data": {
      "text/html": [
       "<div>\n",
       "<style>\n",
       "    .dataframe thead tr:only-child th {\n",
       "        text-align: right;\n",
       "    }\n",
       "\n",
       "    .dataframe thead th {\n",
       "        text-align: left;\n",
       "    }\n",
       "\n",
       "    .dataframe tbody tr th {\n",
       "        vertical-align: top;\n",
       "    }\n",
       "</style>\n",
       "<table border=\"1\" class=\"dataframe\">\n",
       "  <thead>\n",
       "    <tr style=\"text-align: right;\">\n",
       "      <th></th>\n",
       "      <th>time</th>\n",
       "      <th>x</th>\n",
       "      <th>y</th>\n",
       "      <th>z</th>\n",
       "      <th>px</th>\n",
       "      <th>py</th>\n",
       "      <th>pz</th>\n",
       "    </tr>\n",
       "  </thead>\n",
       "  <tbody>\n",
       "    <tr>\n",
       "      <th>0</th>\n",
       "      <td>-0.000488</td>\n",
       "      <td>0.000000e+00</td>\n",
       "      <td>0.000000e+00</td>\n",
       "      <td>0.000000</td>\n",
       "      <td>0.000000e+00</td>\n",
       "      <td>0.000000e+00</td>\n",
       "      <td>0.005655</td>\n",
       "    </tr>\n",
       "    <tr>\n",
       "      <th>1</th>\n",
       "      <td>0.008056</td>\n",
       "      <td>-1.209744e-12</td>\n",
       "      <td>-2.738808e-18</td>\n",
       "      <td>0.013656</td>\n",
       "      <td>-8.950678e-13</td>\n",
       "      <td>-2.024486e-18</td>\n",
       "      <td>0.005655</td>\n",
       "    </tr>\n",
       "    <tr>\n",
       "      <th>2</th>\n",
       "      <td>0.062557</td>\n",
       "      <td>-7.335627e-11</td>\n",
       "      <td>-1.629990e-16</td>\n",
       "      <td>0.106043</td>\n",
       "      <td>-7.151656e-12</td>\n",
       "      <td>-1.576261e-17</td>\n",
       "      <td>0.005655</td>\n",
       "    </tr>\n",
       "    <tr>\n",
       "      <th>3</th>\n",
       "      <td>0.400008</td>\n",
       "      <td>-3.023926e-09</td>\n",
       "      <td>-5.941202e-15</td>\n",
       "      <td>0.678077</td>\n",
       "      <td>-4.636395e-11</td>\n",
       "      <td>-8.580548e-17</td>\n",
       "      <td>0.005655</td>\n",
       "    </tr>\n",
       "    <tr>\n",
       "      <th>4</th>\n",
       "      <td>1.257676</td>\n",
       "      <td>-2.946653e-08</td>\n",
       "      <td>-3.961229e-14</td>\n",
       "      <td>2.131958</td>\n",
       "      <td>-1.499132e-10</td>\n",
       "      <td>-1.404259e-16</td>\n",
       "      <td>0.005655</td>\n",
       "    </tr>\n",
       "  </tbody>\n",
       "</table>\n",
       "</div>"
      ],
      "text/plain": [
       "       time             x             y         z            px            py  \\\n",
       "0 -0.000488  0.000000e+00  0.000000e+00  0.000000  0.000000e+00  0.000000e+00   \n",
       "1  0.008056 -1.209744e-12 -2.738808e-18  0.013656 -8.950678e-13 -2.024486e-18   \n",
       "2  0.062557 -7.335627e-11 -1.629990e-16  0.106043 -7.151656e-12 -1.576261e-17   \n",
       "3  0.400008 -3.023926e-09 -5.941202e-15  0.678077 -4.636395e-11 -8.580548e-17   \n",
       "4  1.257676 -2.946653e-08 -3.961229e-14  2.131958 -1.499132e-10 -1.404259e-16   \n",
       "\n",
       "         pz  \n",
       "0  0.005655  \n",
       "1  0.005655  \n",
       "2  0.005655  \n",
       "3  0.005655  \n",
       "4  0.005655  "
      ]
     },
     "execution_count": 7,
     "metadata": {},
     "output_type": "execute_result"
    }
   ],
   "source": [
    "particle_trajectories[0].head()"
   ]
  },
  {
   "cell_type": "code",
   "execution_count": 8,
   "metadata": {},
   "outputs": [],
   "source": [
    "dtr = Trajectory(particle_trajectories[0],particle_constants.loc[[0]])\n",
    "pm = ParticleMonitor(302, trajectory=dtr)"
   ]
  },
  {
   "cell_type": "code",
   "execution_count": 9,
   "metadata": {},
   "outputs": [],
   "source": [
    "trajectories = []\n",
    "for particleID in particle_trajectories.keys():\n",
    "    trajectories.append(Trajectory(particle_trajectories[particleID], particle_constants.loc[[particleID]]))"
   ]
  },
  {
   "cell_type": "code",
   "execution_count": 10,
   "metadata": {},
   "outputs": [],
   "source": [
    "for traj in trajectories:\n",
    "    pm.record_intersect(traj)"
   ]
  },
  {
   "cell_type": "code",
   "execution_count": 11,
   "metadata": {},
   "outputs": [
    {
     "data": {
      "text/html": [
       "<div>\n",
       "<style>\n",
       "    .dataframe thead tr:only-child th {\n",
       "        text-align: right;\n",
       "    }\n",
       "\n",
       "    .dataframe thead th {\n",
       "        text-align: left;\n",
       "    }\n",
       "\n",
       "    .dataframe tbody tr th {\n",
       "        vertical-align: top;\n",
       "    }\n",
       "</style>\n",
       "<table border=\"1\" class=\"dataframe\">\n",
       "  <thead>\n",
       "    <tr style=\"text-align: right;\">\n",
       "      <th></th>\n",
       "      <th>particleID</th>\n",
       "      <th>sourceID</th>\n",
       "      <th>t_event</th>\n",
       "      <th>ps_u</th>\n",
       "      <th>ps_up</th>\n",
       "      <th>ps_v</th>\n",
       "      <th>ps_vp</th>\n",
       "      <th>ps_l</th>\n",
       "      <th>ps_delta</th>\n",
       "    </tr>\n",
       "  </thead>\n",
       "  <tbody>\n",
       "    <tr>\n",
       "      <th>0</th>\n",
       "      <td>0</td>\n",
       "      <td>16777220</td>\n",
       "      <td>302.000000</td>\n",
       "      <td>0.000000</td>\n",
       "      <td>3.792300e-14</td>\n",
       "      <td>0.000000</td>\n",
       "      <td>-1.875316e-19</td>\n",
       "      <td>-0.000000</td>\n",
       "      <td>1.533879e-16</td>\n",
       "    </tr>\n",
       "    <tr>\n",
       "      <th>1</th>\n",
       "      <td>1</td>\n",
       "      <td>16777220</td>\n",
       "      <td>305.851542</td>\n",
       "      <td>5.959865</td>\n",
       "      <td>-1.459621e+01</td>\n",
       "      <td>0.000001</td>\n",
       "      <td>1.037791e-05</td>\n",
       "      <td>-6.529165</td>\n",
       "      <td>5.292192e-06</td>\n",
       "    </tr>\n",
       "    <tr>\n",
       "      <th>2</th>\n",
       "      <td>2</td>\n",
       "      <td>16777220</td>\n",
       "      <td>304.704749</td>\n",
       "      <td>4.438825</td>\n",
       "      <td>-9.510451e+00</td>\n",
       "      <td>6.955785</td>\n",
       "      <td>-9.481840e-01</td>\n",
       "      <td>-4.585113</td>\n",
       "      <td>3.219407e-06</td>\n",
       "    </tr>\n",
       "    <tr>\n",
       "      <th>3</th>\n",
       "      <td>3</td>\n",
       "      <td>16777220</td>\n",
       "      <td>302.017629</td>\n",
       "      <td>0.173660</td>\n",
       "      <td>6.009044e-01</td>\n",
       "      <td>9.539995</td>\n",
       "      <td>-2.445804e+00</td>\n",
       "      <td>-0.029885</td>\n",
       "      <td>-2.777305e-07</td>\n",
       "    </tr>\n",
       "    <tr>\n",
       "      <th>4</th>\n",
       "      <td>4</td>\n",
       "      <td>16777220</td>\n",
       "      <td>299.424132</td>\n",
       "      <td>-4.589382</td>\n",
       "      <td>9.112168e+00</td>\n",
       "      <td>6.633541</td>\n",
       "      <td>-2.070382e+00</td>\n",
       "      <td>4.366632</td>\n",
       "      <td>-1.698931e-06</td>\n",
       "    </tr>\n",
       "  </tbody>\n",
       "</table>\n",
       "</div>"
      ],
      "text/plain": [
       "   particleID  sourceID     t_event      ps_u         ps_up      ps_v  \\\n",
       "0           0  16777220  302.000000  0.000000  3.792300e-14  0.000000   \n",
       "1           1  16777220  305.851542  5.959865 -1.459621e+01  0.000001   \n",
       "2           2  16777220  304.704749  4.438825 -9.510451e+00  6.955785   \n",
       "3           3  16777220  302.017629  0.173660  6.009044e-01  9.539995   \n",
       "4           4  16777220  299.424132 -4.589382  9.112168e+00  6.633541   \n",
       "\n",
       "          ps_vp      ps_l      ps_delta  \n",
       "0 -1.875316e-19 -0.000000  1.533879e-16  \n",
       "1  1.037791e-05 -6.529165  5.292192e-06  \n",
       "2 -9.481840e-01 -4.585113  3.219407e-06  \n",
       "3 -2.445804e+00 -0.029885 -2.777305e-07  \n",
       "4 -2.070382e+00  4.366632 -1.698931e-06  "
      ]
     },
     "execution_count": 11,
     "metadata": {},
     "output_type": "execute_result"
    }
   ],
   "source": [
    "data = pm.get_events()\n",
    "data.head()"
   ]
  },
  {
   "cell_type": "code",
   "execution_count": 12,
   "metadata": {},
   "outputs": [
    {
     "data": {
      "application/vnd.vegalite.v1+json": {
       "$schema": "https://vega.github.io/schema/vega-lite/v1.2.1.json",
       "data": {
        "values": [
         {
          "particleID": 1,
          "ps_delta": 5.292191519437827e-06,
          "ps_l": -6.529165039356328,
          "ps_u": 5.959864857813321,
          "ps_up": -14.596213316648152,
          "ps_v": 1.4475615506883866e-06,
          "ps_vp": 1.0377913702365884e-05,
          "sourceID": 16777220,
          "t_event": 305.85154155067113
         },
         {
          "particleID": 2,
          "ps_delta": 3.2194069195113176e-06,
          "ps_l": -4.585113066650664,
          "ps_u": 4.438825025791818,
          "ps_up": -9.510451372631891,
          "ps_v": 6.955784602845166,
          "ps_vp": -0.9481839531952897,
          "sourceID": 16777220,
          "t_event": 304.70474913473333
         },
         {
          "particleID": 3,
          "ps_delta": -2.7773046578553325e-07,
          "ps_l": -0.029885289026924867,
          "ps_u": 0.17365956378825542,
          "ps_up": 0.600904375317967,
          "ps_v": 9.53999450124024,
          "ps_vp": -2.4458041873936938,
          "sourceID": 16777220,
          "t_event": 302.01762927292344
         },
         {
          "particleID": 4,
          "ps_delta": -1.6989310237692793e-06,
          "ps_l": 4.366631918235555,
          "ps_u": -4.589381700671711,
          "ps_up": 9.112167790711185,
          "ps_v": 6.633540856545834,
          "ps_vp": -2.0703821546694714,
          "sourceID": 16777220,
          "t_event": 299.42413246285025
         },
         {
          "particleID": 5,
          "ps_delta": -2.0383806789832026e-06,
          "ps_l": 6.1349176678833865,
          "ps_u": -6.538607108006293,
          "ps_up": 12.848458979481485,
          "ps_v": -7.840601767730416e-06,
          "ps_vp": -7.214407845166359e-05,
          "sourceID": 16777220,
          "t_event": 298.38102419446136
         },
         {
          "particleID": 6,
          "ps_delta": -1.803836458121391e-06,
          "ps_l": 4.3665934662020875,
          "ps_u": -4.589409940709806,
          "ps_up": 9.111943256107313,
          "ps_v": -6.633546299653775,
          "ps_vp": 2.0703464996181697,
          "sourceID": 16777220,
          "t_event": 299.4241551456288
         },
         {
          "particleID": 7,
          "ps_delta": -3.8845111193816635e-07,
          "ps_l": -0.029938336766306212,
          "ps_u": 0.1736497576333138,
          "ps_up": 0.6008631906348935,
          "ps_v": -9.539985587155162,
          "ps_vp": 2.445917100496799,
          "sourceID": 16777220,
          "t_event": 302.01766056568005
         },
         {
          "particleID": 8,
          "ps_delta": 3.123561390837292e-06,
          "ps_l": -4.585189105768897,
          "ps_u": 4.438810265674113,
          "ps_up": -9.51048697353053,
          "ps_v": -6.955776298791709,
          "ps_vp": 0.9482683430143376,
          "sourceID": 16777220,
          "t_event": 304.7047939900589
         },
         {
          "particleID": 9,
          "ps_delta": -1.0330389158384993e-05,
          "ps_l": -13.517830524636544,
          "ps_u": 9.967941147872107,
          "ps_up": -35.776721481786204,
          "ps_v": -1.3881678216796691e-06,
          "ps_vp": -2.206751173693882e-05,
          "sourceID": 16777220,
          "t_event": 309.97414150610916
         },
         {
          "particleID": 10,
          "ps_delta": 7.644263701297755e-06,
          "ps_l": -9.375948458731203,
          "ps_u": 8.403108935435634,
          "ps_up": -20.356833099456672,
          "ps_v": 14.380561689213584,
          "ps_vp": -0.14747823911816474,
          "sourceID": 16777220,
          "t_event": 307.5308534625913
         },
         {
          "particleID": 11,
          "ps_delta": -8.691049092164455e-07,
          "ps_l": -0.1403228736849798,
          "ps_u": 0.8538685920175721,
          "ps_up": 2.980505776177715,
          "ps_v": 18.848598087961733,
          "ps_vp": -5.998247585435955,
          "sourceID": 16777220,
          "t_event": 302.0827761858139
         },
         {
          "particleID": 12,
          "ps_delta": -4.3243723708945184e-06,
          "ps_l": 8.512332253561256,
          "ps_u": -9.274149352412019,
          "ps_up": 17.94176301628306,
          "ps_v": 13.103987512938287,
          "ps_vp": -4.591889837842286,
          "sourceID": 16777220,
          "t_event": 296.9785920297488
         },
         {
          "particleID": 13,
          "ps_delta": -0.00010625354695204286,
          "ps_l": 11.762803413027857,
          "ps_u": -12.354661754890149,
          "ps_up": 29.057211689050195,
          "ps_v": -2.1785715579161236e-05,
          "ps_vp": -0.00019683815945792946,
          "sourceID": 16777220,
          "t_event": 295.06114551790847
         },
         {
          "particleID": 14,
          "ps_delta": -4.5370036168196496e-06,
          "ps_l": 8.512215201751136,
          "ps_u": -9.274213804952996,
          "ps_up": 17.941315801770337,
          "ps_v": -13.103997377777288,
          "ps_vp": 4.591853214244951,
          "sourceID": 16777220,
          "t_event": 296.97866107838024
         },
         {
          "particleID": 15,
          "ps_delta": -1.1630761922488822e-06,
          "ps_l": -0.14043371469421745,
          "ps_u": 0.8538540207123532,
          "ps_up": 2.980327274337207,
          "ps_v": -18.84855782532818,
          "ps_vp": 5.998706606950625,
          "sourceID": 16777220,
          "t_event": 302.08284157070614
         },
         {
          "particleID": 16,
          "ps_delta": 7.4697472062068575e-06,
          "ps_l": -9.375996198019745,
          "ps_u": 8.40313626585754,
          "ps_up": -20.356709767106647,
          "ps_v": -14.380545269485923,
          "ps_vp": 0.14771626776265634,
          "sourceID": 16777220,
          "t_event": 307.53088162390327
         }
        ]
       },
       "encoding": {
        "colour": "sourceID",
        "x": {
         "axis": {
          "title": "X"
         },
         "field": "ps_u",
         "type": "quantitative"
        },
        "y": {
         "axis": {
          "title": "Y"
         },
         "field": "ps_up",
         "type": "quantitative"
        }
       },
       "mark": "circle"
      },
      "text/plain": [
       "<altair.VegaLite object>"
      ]
     },
     "execution_count": 12,
     "metadata": {},
     "output_type": "execute_result"
    }
   ],
   "source": [
    "ps_u = alt.Chart(data[1:1000]).mark_circle().encode(\n",
    "    x=alt.X('ps_u', axis=alt.Axis(title='X')),\n",
    "    y=alt.Y('ps_up', axis=alt.Axis(title='Y')),\n",
    "    colour = \"sourceID\"\n",
    ")\n",
    "ps_u.max_rows=20000\n",
    "ps_u"
   ]
  },
  {
   "cell_type": "code",
   "execution_count": 13,
   "metadata": {},
   "outputs": [
    {
     "data": {
      "application/vnd.vegalite.v1+json": {
       "$schema": "https://vega.github.io/schema/vega-lite/v1.2.1.json",
       "data": {
        "values": [
         {
          "particleID": 0,
          "ps_delta": 1.5338785021296292e-16,
          "ps_l": 0,
          "ps_u": 0,
          "ps_up": 3.7923003217264315e-14,
          "ps_v": 0,
          "ps_vp": -1.8753162037558823e-19,
          "sourceID": 16777220,
          "t_event": 302
         },
         {
          "particleID": 1,
          "ps_delta": 5.292191519437827e-06,
          "ps_l": -6.529165039356328,
          "ps_u": 5.959864857813321,
          "ps_up": -14.596213316648152,
          "ps_v": 1.4475615506883866e-06,
          "ps_vp": 1.0377913702365884e-05,
          "sourceID": 16777220,
          "t_event": 305.85154155067113
         },
         {
          "particleID": 2,
          "ps_delta": 3.2194069195113176e-06,
          "ps_l": -4.585113066650664,
          "ps_u": 4.438825025791818,
          "ps_up": -9.510451372631891,
          "ps_v": 6.955784602845166,
          "ps_vp": -0.9481839531952897,
          "sourceID": 16777220,
          "t_event": 304.70474913473333
         },
         {
          "particleID": 3,
          "ps_delta": -2.7773046578553325e-07,
          "ps_l": -0.029885289026924867,
          "ps_u": 0.17365956378825542,
          "ps_up": 0.600904375317967,
          "ps_v": 9.53999450124024,
          "ps_vp": -2.4458041873936938,
          "sourceID": 16777220,
          "t_event": 302.01762927292344
         },
         {
          "particleID": 4,
          "ps_delta": -1.6989310237692793e-06,
          "ps_l": 4.366631918235555,
          "ps_u": -4.589381700671711,
          "ps_up": 9.112167790711185,
          "ps_v": 6.633540856545834,
          "ps_vp": -2.0703821546694714,
          "sourceID": 16777220,
          "t_event": 299.42413246285025
         },
         {
          "particleID": 5,
          "ps_delta": -2.0383806789832026e-06,
          "ps_l": 6.1349176678833865,
          "ps_u": -6.538607108006293,
          "ps_up": 12.848458979481485,
          "ps_v": -7.840601767730416e-06,
          "ps_vp": -7.214407845166359e-05,
          "sourceID": 16777220,
          "t_event": 298.38102419446136
         },
         {
          "particleID": 6,
          "ps_delta": -1.803836458121391e-06,
          "ps_l": 4.3665934662020875,
          "ps_u": -4.589409940709806,
          "ps_up": 9.111943256107313,
          "ps_v": -6.633546299653775,
          "ps_vp": 2.0703464996181697,
          "sourceID": 16777220,
          "t_event": 299.4241551456288
         },
         {
          "particleID": 7,
          "ps_delta": -3.8845111193816635e-07,
          "ps_l": -0.029938336766306212,
          "ps_u": 0.1736497576333138,
          "ps_up": 0.6008631906348935,
          "ps_v": -9.539985587155162,
          "ps_vp": 2.445917100496799,
          "sourceID": 16777220,
          "t_event": 302.01766056568005
         },
         {
          "particleID": 8,
          "ps_delta": 3.123561390837292e-06,
          "ps_l": -4.585189105768897,
          "ps_u": 4.438810265674113,
          "ps_up": -9.51048697353053,
          "ps_v": -6.955776298791709,
          "ps_vp": 0.9482683430143376,
          "sourceID": 16777220,
          "t_event": 304.7047939900589
         },
         {
          "particleID": 9,
          "ps_delta": -1.0330389158384993e-05,
          "ps_l": -13.517830524636544,
          "ps_u": 9.967941147872107,
          "ps_up": -35.776721481786204,
          "ps_v": -1.3881678216796691e-06,
          "ps_vp": -2.206751173693882e-05,
          "sourceID": 16777220,
          "t_event": 309.97414150610916
         },
         {
          "particleID": 10,
          "ps_delta": 7.644263701297755e-06,
          "ps_l": -9.375948458731203,
          "ps_u": 8.403108935435634,
          "ps_up": -20.356833099456672,
          "ps_v": 14.380561689213584,
          "ps_vp": -0.14747823911816474,
          "sourceID": 16777220,
          "t_event": 307.5308534625913
         },
         {
          "particleID": 11,
          "ps_delta": -8.691049092164455e-07,
          "ps_l": -0.1403228736849798,
          "ps_u": 0.8538685920175721,
          "ps_up": 2.980505776177715,
          "ps_v": 18.848598087961733,
          "ps_vp": -5.998247585435955,
          "sourceID": 16777220,
          "t_event": 302.0827761858139
         },
         {
          "particleID": 12,
          "ps_delta": -4.3243723708945184e-06,
          "ps_l": 8.512332253561256,
          "ps_u": -9.274149352412019,
          "ps_up": 17.94176301628306,
          "ps_v": 13.103987512938287,
          "ps_vp": -4.591889837842286,
          "sourceID": 16777220,
          "t_event": 296.9785920297488
         },
         {
          "particleID": 13,
          "ps_delta": -0.00010625354695204286,
          "ps_l": 11.762803413027857,
          "ps_u": -12.354661754890149,
          "ps_up": 29.057211689050195,
          "ps_v": -2.1785715579161236e-05,
          "ps_vp": -0.00019683815945792946,
          "sourceID": 16777220,
          "t_event": 295.06114551790847
         },
         {
          "particleID": 14,
          "ps_delta": -4.5370036168196496e-06,
          "ps_l": 8.512215201751136,
          "ps_u": -9.274213804952996,
          "ps_up": 17.941315801770337,
          "ps_v": -13.103997377777288,
          "ps_vp": 4.591853214244951,
          "sourceID": 16777220,
          "t_event": 296.97866107838024
         },
         {
          "particleID": 15,
          "ps_delta": -1.1630761922488822e-06,
          "ps_l": -0.14043371469421745,
          "ps_u": 0.8538540207123532,
          "ps_up": 2.980327274337207,
          "ps_v": -18.84855782532818,
          "ps_vp": 5.998706606950625,
          "sourceID": 16777220,
          "t_event": 302.08284157070614
         },
         {
          "particleID": 16,
          "ps_delta": 7.4697472062068575e-06,
          "ps_l": -9.375996198019745,
          "ps_u": 8.40313626585754,
          "ps_up": -20.356709767106647,
          "ps_v": -14.380545269485923,
          "ps_vp": 0.14771626776265634,
          "sourceID": 16777220,
          "t_event": 307.53088162390327
         }
        ]
       },
       "encoding": {
        "x": {
         "axis": {
          "title": "X"
         },
         "field": "ps_v",
         "type": "quantitative"
        },
        "y": {
         "axis": {
          "title": "Y"
         },
         "field": "ps_vp",
         "type": "quantitative"
        }
       },
       "mark": "circle"
      },
      "text/plain": [
       "<altair.VegaLite object>"
      ]
     },
     "execution_count": 13,
     "metadata": {},
     "output_type": "execute_result"
    }
   ],
   "source": [
    "ps_v = alt.Chart(data).mark_circle().encode(\n",
    "    x=alt.X('ps_v', axis=alt.Axis(title='X')),\n",
    "    y=alt.Y('ps_vp', axis=alt.Axis(title='Y')),\n",
    ")\n",
    "ps_v"
   ]
  },
  {
   "cell_type": "code",
   "execution_count": 14,
   "metadata": {},
   "outputs": [
    {
     "data": {
      "application/vnd.vegalite.v1+json": {
       "$schema": "https://vega.github.io/schema/vega-lite/v1.2.1.json",
       "data": {
        "values": [
         {
          "particleID": 0,
          "ps_delta": 1.5338785021296292e-16,
          "ps_l": 0,
          "ps_u": 0,
          "ps_up": 3.7923003217264315e-14,
          "ps_v": 0,
          "ps_vp": -1.8753162037558823e-19,
          "sourceID": 16777220,
          "t_event": 302
         },
         {
          "particleID": 1,
          "ps_delta": 5.292191519437827e-06,
          "ps_l": -6.529165039356328,
          "ps_u": 5.959864857813321,
          "ps_up": -14.596213316648152,
          "ps_v": 1.4475615506883866e-06,
          "ps_vp": 1.0377913702365884e-05,
          "sourceID": 16777220,
          "t_event": 305.85154155067113
         },
         {
          "particleID": 2,
          "ps_delta": 3.2194069195113176e-06,
          "ps_l": -4.585113066650664,
          "ps_u": 4.438825025791818,
          "ps_up": -9.510451372631891,
          "ps_v": 6.955784602845166,
          "ps_vp": -0.9481839531952897,
          "sourceID": 16777220,
          "t_event": 304.70474913473333
         },
         {
          "particleID": 3,
          "ps_delta": -2.7773046578553325e-07,
          "ps_l": -0.029885289026924867,
          "ps_u": 0.17365956378825542,
          "ps_up": 0.600904375317967,
          "ps_v": 9.53999450124024,
          "ps_vp": -2.4458041873936938,
          "sourceID": 16777220,
          "t_event": 302.01762927292344
         },
         {
          "particleID": 4,
          "ps_delta": -1.6989310237692793e-06,
          "ps_l": 4.366631918235555,
          "ps_u": -4.589381700671711,
          "ps_up": 9.112167790711185,
          "ps_v": 6.633540856545834,
          "ps_vp": -2.0703821546694714,
          "sourceID": 16777220,
          "t_event": 299.42413246285025
         },
         {
          "particleID": 5,
          "ps_delta": -2.0383806789832026e-06,
          "ps_l": 6.1349176678833865,
          "ps_u": -6.538607108006293,
          "ps_up": 12.848458979481485,
          "ps_v": -7.840601767730416e-06,
          "ps_vp": -7.214407845166359e-05,
          "sourceID": 16777220,
          "t_event": 298.38102419446136
         },
         {
          "particleID": 6,
          "ps_delta": -1.803836458121391e-06,
          "ps_l": 4.3665934662020875,
          "ps_u": -4.589409940709806,
          "ps_up": 9.111943256107313,
          "ps_v": -6.633546299653775,
          "ps_vp": 2.0703464996181697,
          "sourceID": 16777220,
          "t_event": 299.4241551456288
         },
         {
          "particleID": 7,
          "ps_delta": -3.8845111193816635e-07,
          "ps_l": -0.029938336766306212,
          "ps_u": 0.1736497576333138,
          "ps_up": 0.6008631906348935,
          "ps_v": -9.539985587155162,
          "ps_vp": 2.445917100496799,
          "sourceID": 16777220,
          "t_event": 302.01766056568005
         },
         {
          "particleID": 8,
          "ps_delta": 3.123561390837292e-06,
          "ps_l": -4.585189105768897,
          "ps_u": 4.438810265674113,
          "ps_up": -9.51048697353053,
          "ps_v": -6.955776298791709,
          "ps_vp": 0.9482683430143376,
          "sourceID": 16777220,
          "t_event": 304.7047939900589
         },
         {
          "particleID": 9,
          "ps_delta": -1.0330389158384993e-05,
          "ps_l": -13.517830524636544,
          "ps_u": 9.967941147872107,
          "ps_up": -35.776721481786204,
          "ps_v": -1.3881678216796691e-06,
          "ps_vp": -2.206751173693882e-05,
          "sourceID": 16777220,
          "t_event": 309.97414150610916
         },
         {
          "particleID": 10,
          "ps_delta": 7.644263701297755e-06,
          "ps_l": -9.375948458731203,
          "ps_u": 8.403108935435634,
          "ps_up": -20.356833099456672,
          "ps_v": 14.380561689213584,
          "ps_vp": -0.14747823911816474,
          "sourceID": 16777220,
          "t_event": 307.5308534625913
         },
         {
          "particleID": 11,
          "ps_delta": -8.691049092164455e-07,
          "ps_l": -0.1403228736849798,
          "ps_u": 0.8538685920175721,
          "ps_up": 2.980505776177715,
          "ps_v": 18.848598087961733,
          "ps_vp": -5.998247585435955,
          "sourceID": 16777220,
          "t_event": 302.0827761858139
         },
         {
          "particleID": 12,
          "ps_delta": -4.3243723708945184e-06,
          "ps_l": 8.512332253561256,
          "ps_u": -9.274149352412019,
          "ps_up": 17.94176301628306,
          "ps_v": 13.103987512938287,
          "ps_vp": -4.591889837842286,
          "sourceID": 16777220,
          "t_event": 296.9785920297488
         },
         {
          "particleID": 13,
          "ps_delta": -0.00010625354695204286,
          "ps_l": 11.762803413027857,
          "ps_u": -12.354661754890149,
          "ps_up": 29.057211689050195,
          "ps_v": -2.1785715579161236e-05,
          "ps_vp": -0.00019683815945792946,
          "sourceID": 16777220,
          "t_event": 295.06114551790847
         },
         {
          "particleID": 14,
          "ps_delta": -4.5370036168196496e-06,
          "ps_l": 8.512215201751136,
          "ps_u": -9.274213804952996,
          "ps_up": 17.941315801770337,
          "ps_v": -13.103997377777288,
          "ps_vp": 4.591853214244951,
          "sourceID": 16777220,
          "t_event": 296.97866107838024
         },
         {
          "particleID": 15,
          "ps_delta": -1.1630761922488822e-06,
          "ps_l": -0.14043371469421745,
          "ps_u": 0.8538540207123532,
          "ps_up": 2.980327274337207,
          "ps_v": -18.84855782532818,
          "ps_vp": 5.998706606950625,
          "sourceID": 16777220,
          "t_event": 302.08284157070614
         },
         {
          "particleID": 16,
          "ps_delta": 7.4697472062068575e-06,
          "ps_l": -9.375996198019745,
          "ps_u": 8.40313626585754,
          "ps_up": -20.356709767106647,
          "ps_v": -14.380545269485923,
          "ps_vp": 0.14771626776265634,
          "sourceID": 16777220,
          "t_event": 307.53088162390327
         }
        ]
       },
       "encoding": {
        "x": {
         "axis": {
          "title": "X"
         },
         "field": "ps_u",
         "type": "quantitative"
        },
        "y": {
         "axis": {
          "title": "Y"
         },
         "field": "ps_v",
         "type": "quantitative"
        }
       },
       "mark": "circle"
      },
      "text/plain": [
       "<altair.VegaLite object>"
      ]
     },
     "execution_count": 14,
     "metadata": {},
     "output_type": "execute_result"
    }
   ],
   "source": [
    "rs = alt.Chart(data).mark_circle().encode(\n",
    "    x=alt.X('ps_u', axis=alt.Axis(title='X')),\n",
    "    y=alt.Y('ps_v', axis=alt.Axis(title='Y')),\n",
    ")\n",
    "rs"
   ]
  },
  {
   "cell_type": "code",
   "execution_count": null,
   "metadata": {},
   "outputs": [],
   "source": []
  }
 ],
 "metadata": {
  "kernelspec": {
   "display_name": "Python 3",
   "language": "python",
   "name": "python3"
  },
  "language_info": {
   "codemirror_mode": {
    "name": "ipython",
    "version": 3
   },
   "file_extension": ".py",
   "mimetype": "text/x-python",
   "name": "python",
   "nbconvert_exporter": "python",
   "pygments_lexer": "ipython3",
   "version": "3.6.3"
  }
 },
 "nbformat": 4,
 "nbformat_minor": 2
}
